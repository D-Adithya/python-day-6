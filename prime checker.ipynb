{
 "cells": [
  {
   "cell_type": "code",
   "execution_count": 2,
   "id": "f11b8bf5",
   "metadata": {},
   "outputs": [
    {
     "name": "stdout",
     "output_type": "stream",
     "text": [
      "enter a number:6\n",
      "6 is not prime\n"
     ]
    }
   ],
   "source": [
    "def  prime_checker(number):\n",
    "    divisor=0\n",
    "    for i in range(1,number+1):\n",
    "        if number%i==0:\n",
    "            divisor=divisor+1\n",
    "    if divisor>2:\n",
    "        print(number,\"is not prime number\")\n",
    "    else:\n",
    "        print(number,\"is a prime number\")\n",
    "    \n",
    "\n",
    "number=int(input(\"enter a number:\"))            \n",
    "prime_checker(number)"
   ]
  },
  {
   "cell_type": "code",
   "execution_count": null,
   "id": "11732f87",
   "metadata": {},
   "outputs": [],
   "source": []
  }
 ],
 "metadata": {
  "kernelspec": {
   "display_name": "Python 3 (ipykernel)",
   "language": "python",
   "name": "python3"
  },
  "language_info": {
   "codemirror_mode": {
    "name": "ipython",
    "version": 3
   },
   "file_extension": ".py",
   "mimetype": "text/x-python",
   "name": "python",
   "nbconvert_exporter": "python",
   "pygments_lexer": "ipython3",
   "version": "3.10.9"
  }
 },
 "nbformat": 4,
 "nbformat_minor": 5
}
