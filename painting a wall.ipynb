{
 "cells": [
  {
   "cell_type": "code",
   "execution_count": 3,
   "id": "397b0721",
   "metadata": {},
   "outputs": [
    {
     "name": "stdout",
     "output_type": "stream",
     "text": [
      "enter the height in meter :2\n",
      "enter the width in meter :9\n",
      "no of paint cans required to paint the wall is : 4\n"
     ]
    }
   ],
   "source": [
    "import math\n",
    "def paint_calculation(height,width,coverage):\n",
    "    cans=height*width\n",
    "    cans=math.ceil(cans/coverage)\n",
    "    print(\"no of paint cans required to paint the wall is :\",cans)\n",
    "the_height=int(input(\"enter the height in meter :\"))\n",
    "the_width=int(input(\"enter the width in meter :\"))\n",
    "coverage=5\n",
    "paint_calculation(height=the_height,width=the_width,coverage=coverage)"
   ]
  },
  {
   "cell_type": "code",
   "execution_count": 11,
   "id": "b668e331",
   "metadata": {},
   "outputs": [],
   "source": [
    "#here we use the ceil function from math library because of round of 5.2 will be 5 \n",
    "\n",
    "#so we may lack 0.2 cans of paint\n",
    "\n",
    "#to resolve the issue we use ceil function"
   ]
  }
 ],
 "metadata": {
  "kernelspec": {
   "display_name": "Python 3 (ipykernel)",
   "language": "python",
   "name": "python3"
  },
  "language_info": {
   "codemirror_mode": {
    "name": "ipython",
    "version": 3
   },
   "file_extension": ".py",
   "mimetype": "text/x-python",
   "name": "python",
   "nbconvert_exporter": "python",
   "pygments_lexer": "ipython3",
   "version": "3.10.9"
  }
 },
 "nbformat": 4,
 "nbformat_minor": 5
}
