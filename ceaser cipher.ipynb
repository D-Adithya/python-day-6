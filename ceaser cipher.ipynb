{
 "cells": [
  {
   "cell_type": "code",
   "execution_count": 1,
   "id": "bfa0cdbe",
   "metadata": {},
   "outputs": [
    {
     "name": "stdout",
     "output_type": "stream",
     "text": [
      "Type 'encode' to encrypt, type 'decode' to decrypt:\n",
      "encode\n",
      "Type your message:\n",
      "aadhi\n",
      "Type the shift number:\n",
      "4\n",
      "The encoded text is eehlm\n"
     ]
    }
   ],
   "source": [
    "alphabet = ['a', 'b', 'c', 'd', 'e', 'f', 'g', 'h', 'i', 'j', 'k', \n",
    "            'l', 'm', 'n', 'o', 'p', 'q', 'r', 's', 't', 'u', 'v', 'w', 'x', 'y', 'z',\n",
    "            'a', 'b', 'c', 'd', 'e', 'f', 'g', 'h', 'i', 'j', 'k', 'l', 'm', 'n', 'o', 'p',\n",
    "            'q', 'r', 's', 't', 'u', 'v', 'w', 'x', 'y', 'z']\n",
    "\n",
    "direction = input(\"Type 'encode' to encrypt, type 'decode' to decrypt:\\n\")\n",
    "text = input(\"Type your message:\\n\").lower()\n",
    "shift = int(input(\"Type the shift number:\\n\"))\n",
    "\n",
    "def ceasar(text,shift,direction):\n",
    "    if direction==\"encode\":\n",
    "        cipher_text = \"\"\n",
    "        \n",
    "        for letter in text:\n",
    "            position = alphabet.index(letter)\n",
    "            new_position = position + shift\n",
    "            new_letter = alphabet[new_position]\n",
    "            cipher_text += new_letter\n",
    "        print(f\"The encoded text is {cipher_text}\")\n",
    "    elif direction==\"decode\":\n",
    "        original_text=\"\"\n",
    "        for letter in text:\n",
    "            position = alphabet.index(letter)\n",
    "            new_position = position - shift\n",
    "            new_letter = alphabet[new_position]\n",
    "            original_text += new_letter\n",
    "        print(\"the original text is\",original_text)\n",
    "    else:\n",
    "        print(\"enter appropriate input!\")\n",
    "        \n",
    "ceasar(text,shift,direction)\n",
    "\n",
    "\n",
    "        \n",
    "    \n",
    "    "
   ]
  },
  {
   "cell_type": "code",
   "execution_count": 1,
   "id": "ba8a8191",
   "metadata": {},
   "outputs": [
    {
     "name": "stdout",
     "output_type": "stream",
     "text": [
      "Type 'encode' to encrypt, type 'decode' to decrypt:\n",
      "encode\n",
      "Type your message:\n",
      "asdfg\n",
      "Type the shift number:\n",
      "2\n",
      "<========== the code is : cufhi\n",
      "want to try again yes or no :no\n",
      "<========== the code is : cufhi\n"
     ]
    }
   ],
   "source": [
    "alphabet = ['a', 'b', 'c', 'd', 'e', 'f', 'g', 'h', 'i', 'j', 'k', \n",
    "            'l', 'm', 'n', 'o', 'p', 'q', 'r', 's', 't', 'u', 'v', 'w', 'x', 'y', 'z',\n",
    "            'a', 'b', 'c', 'd', 'e', 'f', 'g', 'h', 'i', 'j', 'k', 'l', 'm', 'n', 'o', 'p',\n",
    "            'q', 'r', 's', 't', 'u', 'v', 'w', 'x', 'y', 'z']\n",
    "\n",
    "def ceasar(text,shift,direction):\n",
    "    code=\"\"\n",
    "    for i in text:\n",
    "        pos=alphabet.index(i)\n",
    "        if direction==\"decode\":\n",
    "            new_pos=pos-shift\n",
    "        else:\n",
    "            new_pos=pos+shift\n",
    "        letter=alphabet[new_pos]\n",
    "        code=code+letter\n",
    "    print(\"<========== the code is :\",code)\n",
    "    \n",
    "\n",
    "\n",
    "end=True\n",
    "\n",
    "while end==True:\n",
    "    direction = input(\"Type 'encode' to encrypt, type 'decode' to decrypt:\\n\")\n",
    "    text = input(\"Type your message:\\n\").lower()\n",
    "    shift = int(input(\"Type the shift number:\\n\"))\n",
    "    shift=shift%26\n",
    "    ceasar(text,shift,direction) \n",
    "    again=input(\"want to try again yes or no :\")\n",
    "    if again==\"no\":\n",
    "        end=False\n",
    "\n",
    "        \n",
    "ceasar(text,shift,direction)       "
   ]
  },
  {
   "cell_type": "code",
   "execution_count": null,
   "id": "4f0c60ad",
   "metadata": {},
   "outputs": [],
   "source": []
  }
 ],
 "metadata": {
  "kernelspec": {
   "display_name": "Python 3 (ipykernel)",
   "language": "python",
   "name": "python3"
  },
  "language_info": {
   "codemirror_mode": {
    "name": "ipython",
    "version": 3
   },
   "file_extension": ".py",
   "mimetype": "text/x-python",
   "name": "python",
   "nbconvert_exporter": "python",
   "pygments_lexer": "ipython3",
   "version": "3.10.9"
  }
 },
 "nbformat": 4,
 "nbformat_minor": 5
}
