{
 "cells": [
  {
   "cell_type": "code",
   "execution_count": 2,
   "id": "e9f592cf",
   "metadata": {},
   "outputs": [
    {
     "name": "stdout",
     "output_type": "stream",
     "text": [
      "hiwelcome\n",
      "this is day 8\n"
     ]
    }
   ],
   "source": [
    "def greet():\n",
    "    print(\"hi\")\n",
    "    print(\"welcome\")\n",
    "    print(\"this is day 8\")\n",
    "greet()"
   ]
  },
  {
   "cell_type": "code",
   "execution_count": 3,
   "id": "3f5399c9",
   "metadata": {},
   "outputs": [],
   "source": [
    "def basic(a):\n",
    "    print(a)"
   ]
  },
  {
   "cell_type": "code",
   "execution_count": 5,
   "id": "dfd5870b",
   "metadata": {},
   "outputs": [
    {
     "name": "stdout",
     "output_type": "stream",
     "text": [
      "1\n"
     ]
    }
   ],
   "source": [
    "basic(1)"
   ]
  },
  {
   "cell_type": "code",
   "execution_count": 8,
   "id": "6737acbd",
   "metadata": {},
   "outputs": [
    {
     "name": "stdout",
     "output_type": "stream",
     "text": [
      "hi! i am aadhi\n",
      "i am from chennai\n"
     ]
    }
   ],
   "source": [
    "def greeting(name,location):# here name and location are parameters\n",
    "    print(\"hi! i am\",name)\n",
    "    print(\"i am from\",location)\n",
    "greeting(\"aadhi\",\"chennai\")#here aadhi and chennai are arguments\n"
   ]
  },
  {
   "cell_type": "code",
   "execution_count": 9,
   "id": "b889ba55",
   "metadata": {},
   "outputs": [
    {
     "name": "stdout",
     "output_type": "stream",
     "text": [
      "1\n",
      "2\n",
      "3\n",
      "4\n"
     ]
    }
   ],
   "source": [
    "def func(a,b,c,d):\n",
    "    print(a)\n",
    "    print(b)\n",
    "    print(c)\n",
    "    print(d)\n",
    "func(1,2,3,4)"
   ]
  },
  {
   "cell_type": "code",
   "execution_count": 10,
   "id": "215df1bd",
   "metadata": {},
   "outputs": [
    {
     "name": "stdout",
     "output_type": "stream",
     "text": [
      "hi! i am aadhi\n",
      "i am from chennai\n",
      "hi! i am joseph\n",
      "i am from chennai\n"
     ]
    }
   ],
   "source": [
    "#keyword arguments\n",
    "def greeting(name,location):# here name and location are parameters\n",
    "    print(\"hi! i am\",name)\n",
    "    print(\"i am from\",location)\n",
    "greeting(name=\"aadhi\",location=\"chennai\")#here aadhi and chennai are arguments\n",
    "greeting(location=\"chennai\",name=\"joseph\")"
   ]
  },
  {
   "cell_type": "code",
   "execution_count": null,
   "id": "f6a1f707",
   "metadata": {},
   "outputs": [],
   "source": []
  }
 ],
 "metadata": {
  "kernelspec": {
   "display_name": "Python 3 (ipykernel)",
   "language": "python",
   "name": "python3"
  },
  "language_info": {
   "codemirror_mode": {
    "name": "ipython",
    "version": 3
   },
   "file_extension": ".py",
   "mimetype": "text/x-python",
   "name": "python",
   "nbconvert_exporter": "python",
   "pygments_lexer": "ipython3",
   "version": "3.10.9"
  }
 },
 "nbformat": 4,
 "nbformat_minor": 5
}
